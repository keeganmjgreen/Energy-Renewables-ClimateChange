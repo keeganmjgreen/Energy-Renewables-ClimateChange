{
 "cells": [
  {
   "cell_type": "code",
   "execution_count": 1,
   "metadata": {},
   "outputs": [
    {
     "data": {
      "text/plain": [
       "989010.9890109891"
      ]
     },
     "execution_count": 1,
     "metadata": {},
     "output_type": "execute_result"
    }
   ],
   "source": [
    "# Starship burns methane (CH4)\n",
    "\n",
    "# \"StarShip uses 1,200 tonnes of propellant.\"\n",
    "# \"SuperHeavy uses about 3,300 tonnes.\"\n",
    "# \"3.55 tonnes of liquid oxygen (LOX) to every 1 tonne of liquid methane (LCH4)\"\n",
    "# -> \"989 tonnes of LCH4\"\n",
    "# ^ From Steve Baker on `https://www.quora.com/How-much-fuel-does-SpaceXs-Starship-and-Super-Heavy-vehicles-carry-How-much-total-fuel-is-available-for-launch-burn-duration`\n",
    "\n",
    "# \"Starship launch (booster and Starship) will use about a 1000 tonnes of methane\"\n",
    "# ^ From `https://www.energy-cg.com/NorthAmericanNatGasSupplyDemandFund/NaturalGasDemand_MethaneFuelMuskStarship.html`\n",
    "\n",
    "super_heavy_propellant_t = 3300\n",
    "capsule_propellant_t = 1200\n",
    "# 3.55 t O2 / t CH4\n",
    "_0 = (super_heavy_propellant_t + capsule_propellant_t) * 1000 / (1 + 3.55)\n",
    "_0  # t CH4"
   ]
  },
  {
   "cell_type": "code",
   "execution_count": 2,
   "metadata": {},
   "outputs": [
    {
     "data": {
      "text/plain": [
       "6181.318681318682"
      ]
     },
     "execution_count": 2,
     "metadata": {},
     "output_type": "execute_result"
    }
   ],
   "source": [
    "# \"At approximately 159 seconds after launch...Super Heavy cuts off all but three of its centre gimbaling rocket engines.\"\n",
    "# ^ From `https://en.wikipedia.org/wiki/SpaceX_Starship`\n",
    "# Starship burns fuel at a reduced rate ~160 s after launch.\n",
    "\n",
    "_1 = _0 / 160\n",
    "_1  # t/s CH4"
   ]
  },
  {
   "cell_type": "code",
   "execution_count": 3,
   "metadata": {},
   "outputs": [
    {
     "data": {
      "text/plain": [
       "16956.532683796915"
      ]
     },
     "execution_count": 3,
     "metadata": {},
     "output_type": "execute_result"
    }
   ],
   "source": [
    "# (_1 kg/s CH4) / (16.043 g/mol CH4) * (1 C atom per CH4) / (1 C atom per CO2) * (44.009 g/mol CO2) = ~17,000 kg/s CO2 = 17 t/s CO2\n",
    "_2 = _1 / 16.043 * 1 / 1 * 44.009\n",
    "_2"
   ]
  },
  {
   "cell_type": "code",
   "execution_count": 4,
   "metadata": {},
   "outputs": [
    {
     "data": {
      "text/plain": [
       "7949.616823158422"
      ]
     },
     "execution_count": 4,
     "metadata": {},
     "output_type": "execute_result"
    }
   ],
   "source": [
    "# \"1 kilogram of jet fuel consumed = 3.16 kilograms of carbon dioxide emissions\"\n",
    "# ^ From `https://theicct.org/sites/default/files/publications/CO2-commercial-aviation-oct2020.pdf`\n",
    "\n",
    "# (_2 kg/s CO2 for Starship) / (3.16 kg CO2 / kg jet fuel for airliner) / ((2,430 kg/h jet fuel for A320 airliner) / (3600 s/h)) = ~8,000 airliners/Starship\n",
    "_3 = _2 / 3.16 / (2430 / 3600)\n",
    "_3"
   ]
  },
  {
   "cell_type": "code",
   "execution_count": 5,
   "metadata": {},
   "outputs": [
    {
     "data": {
      "text/plain": [
       "4093334.1203208705"
      ]
     },
     "execution_count": 5,
     "metadata": {},
     "output_type": "execute_result"
    }
   ],
   "source": [
    "# \"The average passenger vehicle emits about 400 grams of CO2 per mile.\"\n",
    "# ^ From `https://www.epa.gov/greenvehicles/greenhouse-gas-emissions-typical-passenger-vehicle`\n",
    "\n",
    "# Assuming average passenger vehicle traveling at 60 km/h.\n",
    "\n",
    "# (_2 kg/s CO2 for Starship) / ((400 g CO2 / mile for car) * (1.609344 km/mile) / (1000 g/kg) * (60 km/h) / (3600 s/h)) = ~4,000,000 cars/Starship\n",
    "_4 = _2 / (400 / 1.609344 / 1000 * 60 / 3600)\n",
    "_4"
   ]
  },
  {
   "cell_type": "code",
   "execution_count": 6,
   "metadata": {},
   "outputs": [
    {
     "data": {
      "text/plain": [
       "0.8171892293542786"
      ]
     },
     "execution_count": 6,
     "metadata": {},
     "output_type": "execute_result"
    }
   ],
   "source": [
    "# \"...in 2017, FlightAware determined there to be an average of 9,728 commercial airplanes in the sky at any given time.\"\n",
    "# ^ From `https://www.travelandleisure.com/airlines-airports/number-of-planes-in-air`\n",
    "# Assuming no change to this average since.\n",
    "\n",
    "_5 = _3 / 9728\n",
    "_5"
   ]
  },
  {
   "cell_type": "code",
   "execution_count": 7,
   "metadata": {},
   "outputs": [
    {
     "data": {
      "text/plain": [
       "2713045.2294075065"
      ]
     },
     "execution_count": 7,
     "metadata": {},
     "output_type": "execute_result"
    }
   ],
   "source": [
    "# (_6 kg/s CO2) * (160 s) = ~2,700,000 kg CO2 = 2,700 t CO2\n",
    "_6 = _2 * 160\n",
    "_6"
   ]
  },
  {
   "cell_type": "code",
   "execution_count": 8,
   "metadata": {},
   "outputs": [
    {
     "data": {
      "text/plain": [
       "2970784526201.22"
      ]
     },
     "execution_count": 8,
     "metadata": {},
     "output_type": "execute_result"
    }
   ],
   "source": [
    "# \"1,000: The minimum number of ships SpaceX aims to send to Mars at every opportunity, once the ITS is fully up and running.\"\n",
    "# ^ From `https://www.space.com/34234-spacex-mars-colony-plan-by-the-numbers.html`\n",
    "\n",
    "# 'According to Darrell Etherington of TechCrunch, Elon Musk, in response to questions during a Twitter interview, indicated \"that the spacecraft is being designed with the plan of flying it for an average of three flights per day, each carrying over 100 tons of payload per flight, for a total of more than 1,000 flights per year, per vehicle.\"'\n",
    "# ^ From `https://www.energy-cg.com/NorthAmericanNatGasSupplyDemandFund/NaturalGasDemand_MethaneFuelMuskStarship.html`\n",
    "\n",
    "# (_6 kg CO2 / launch) * (3 launches/day/rocket) * (365 days/year) * (1000 rockets) = ~3,000,000,000,000 kg CO2 = 3,000,000,000 t/year CO2\n",
    "_7 = _6 * 3 * 365 * 1000\n",
    "_7"
   ]
  }
 ],
 "metadata": {
  "kernelspec": {
   "display_name": "electric_airline",
   "language": "python",
   "name": "python3"
  },
  "language_info": {
   "codemirror_mode": {
    "name": "ipython",
    "version": 3
   },
   "file_extension": ".py",
   "mimetype": "text/x-python",
   "name": "python",
   "nbconvert_exporter": "python",
   "pygments_lexer": "ipython3",
   "version": "3.11.4"
  }
 },
 "nbformat": 4,
 "nbformat_minor": 2
}
