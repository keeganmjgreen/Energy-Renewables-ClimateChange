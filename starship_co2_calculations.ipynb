{
 "cells": [
  {
   "cell_type": "code",
   "execution_count": 1,
   "metadata": {},
   "outputs": [],
   "source": [
    "# https://en.wikipedia.org/wiki/SpaceX_Starship\n",
    "\n",
    "# Starship burns methane (CH4).\n",
    "\n",
    "# https://www.google.com/search?hl=en&q=spacex%20starship%20fuel%20burn%20rate\n",
    "#     Steve Baker on `https://www.quora.com/How-much-fuel-does-SpaceXs-Starship-and-Super-Heavy-vehicles-carry-How-much-total-fuel-is-available-for-launch-burn-duration`\n",
    "#         \"StarShip uses 1,200 tonnes of propellant.\"\n",
    "#         \"SuperHeavy uses about 3,300 tonnes.\"\n",
    "#         \"3.55 tonnes of liquid oxygen (LOX) to every 1 tonne of liquid methane (LCH4)\"\n",
    "#         -> \"989 tonnes of LCH4\"\n",
    "#     https://www.energy-cg.com/NorthAmericanNatGasSupplyDemandFund/NaturalGasDemand_MethaneFuelMuskStarship.html\n",
    "#         \"Starship launch (booster and Starship) will use about a 1000 tonnes of methane\"\n",
    "# https://duckduckgo.com/?q=LCH4+to+LOX+ratio+3.55\n",
    "#     https://space.stackexchange.com/questions/49163/what-is-the-lox-mass-of-a-starship-and-a-superheavy\n",
    "#         https://en.wikipedia.org/wiki/SpaceX_Raptor\n",
    "#             https://web.archive.org/web/20211020054702/https://www.faa.gov/space/stakeholder_engagement/spacex_starship/media/Appendix_G_Exhaust_Plume_Calculations.pdf\n",
    "#                 \"somewhat fuel-rich engine O/F mixture ratio (MR) of 3.60\"\n",
    "#             https://web.archive.org/web/20210917182019/https://www.faa.gov/space/stakeholder_engagement/spacex_starship/media/Draft_PEA_for_SpaceX_Starship_Super_Heavy_at_Boca_Chica.pdf\n",
    "#                 \"Super Heavy is expected to be equipped with up to 37 Raptor engines, and Starship will employ up to six Raptor engines. The Raptor engine is powered by liquid oxygen (LOX) and liquid methane (LCH4) in a 3.6:1 mass ratio, respectively.\"\n",
    "\n",
    "SUPER_HEAVY_PROPELLANT_T = 3400\n",
    "SECOND_STAGE_PROPELLANT_T = 1200\n",
    "# (SE question 49163)  3400 + 1200 = 4600 t propellant, but some sources say 4800 t propellant.\n",
    "\n",
    "MIXTURE_RATIO = 3.6  # t O2 / t CH4\n",
    "# CH4 + 2 O2 -> CO2 + 2 H2O\n",
    "# Ideal mass ratio should be approximately: (2 * 2 * 8 g/mol O atom) / (12 g/mol C atom + 4 * 1 g/mol H atom) = 64/16 = 4.\n",
    "# Thus, SpaceX Raptor engine burns with less oxygen, making it fuel-rich; the amount of O2 is the limiting factor.\n",
    "# How to account for this? (If at all?)\n",
    "\n",
    "starship_t_CH4 = (SUPER_HEAVY_PROPELLANT_T  + SECOND_STAGE_PROPELLANT_T) / (1 + MIXTURE_RATIO)\n",
    "super_heavy_t_CH4 = SUPER_HEAVY_PROPELLANT_T / (1 + MIXTURE_RATIO)"
   ]
  },
  {
   "cell_type": "code",
   "execution_count": 2,
   "metadata": {},
   "outputs": [
    {
     "data": {
      "text/plain": [
       "4.619565217391305"
      ]
     },
     "execution_count": 2,
     "metadata": {},
     "output_type": "execute_result"
    }
   ],
   "source": [
    "# https://en.wikipedia.org/wiki/SpaceX_Starship\n",
    "#     \"At approximately 159 seconds after launch...Super Heavy cuts off all but three of its centre gimbaling rocket engines.\"\n",
    "# Super Heavy burns fuel at a reduced rate ~160 s after launch.\n",
    "\n",
    "SUPER_HEAVY_BURN_TIME_S = 160\n",
    "\n",
    "super_heavy_t_CH4_per_s = super_heavy_t_CH4 / SUPER_HEAVY_BURN_TIME_S\n",
    "super_heavy_t_CH4_per_s"
   ]
  },
  {
   "cell_type": "code",
   "execution_count": 3,
   "metadata": {},
   "outputs": [
    {
     "data": {
      "text/plain": [
       "12.67234592359122"
      ]
     },
     "execution_count": 3,
     "metadata": {},
     "output_type": "execute_result"
    }
   ],
   "source": [
    "CH4_MOLAR_MASS_G_PER_MOL = 16.043\n",
    "CO2_MOLAR_MASS_G_PER_MOL = 44.009\n",
    "C_ATOMS_PER_CH4 = 1\n",
    "C_ATOMS_PER_CO2 = 1\n",
    "super_heavy_t_CO2_per_s = super_heavy_t_CH4_per_s / CH4_MOLAR_MASS_G_PER_MOL * C_ATOMS_PER_CH4 / C_ATOMS_PER_CO2 * CO2_MOLAR_MASS_G_PER_MOL\n",
    "super_heavy_t_CO2_per_s"
   ]
  },
  {
   "cell_type": "code",
   "execution_count": 4,
   "metadata": {},
   "outputs": [
    {
     "data": {
      "text/plain": [
       "5941.090447065738"
      ]
     },
     "execution_count": 4,
     "metadata": {},
     "output_type": "execute_result"
    }
   ],
   "source": [
    "KG_PER_T = G_PER_KG = 1000\n",
    "S_PER_H = 3600\n",
    "\n",
    "# https://theicct.org/sites/default/files/publications/CO2-commercial-aviation-oct2020.pdf\n",
    "#     \"1 kilogram of jet fuel consumed = 3.16 kilograms of carbon dioxide emissions\"\n",
    "AIRLINER_KG_CO2_PER_KG_FUEL = 3.16\n",
    "\n",
    "A320_AIRLINER_KG_FUEL_PER_H = 2430\n",
    "\n",
    "eq_airliners_per_super_heavy = super_heavy_t_CO2_per_s * KG_PER_T / AIRLINER_KG_CO2_PER_KG_FUEL / (A320_AIRLINER_KG_FUEL_PER_H / S_PER_H)\n",
    "eq_airliners_per_super_heavy"
   ]
  },
  {
   "cell_type": "code",
   "execution_count": 5,
   "metadata": {},
   "outputs": [
    {
     "data": {
      "text/plain": [
       "3059124.581708399"
      ]
     },
     "execution_count": 5,
     "metadata": {},
     "output_type": "execute_result"
    }
   ],
   "source": [
    "# https://www.epa.gov/greenvehicles/greenhouse-gas-emissions-typical-passenger-vehicle\n",
    "#     \"The average passenger vehicle emits about 400 grams of CO2 per mile.\"\n",
    "CAR_G_CO2_PER_MILE = 400\n",
    "\n",
    "KM_PER_MILE = 1.609344\n",
    "\n",
    "# Assuming average passenger vehicle traveling at 60 km/h:\n",
    "ASSUMED_SPEED_KMPH = 60\n",
    "\n",
    "eq_cars_per_super_heavy = super_heavy_t_CO2_per_s * KG_PER_T / (CAR_G_CO2_PER_MILE / KM_PER_MILE / G_PER_KG * ASSUMED_SPEED_KMPH / S_PER_H)\n",
    "eq_cars_per_super_heavy"
   ]
  },
  {
   "cell_type": "code",
   "execution_count": 6,
   "metadata": {},
   "outputs": [
    {
     "data": {
      "text/plain": [
       "0.6107206462855405"
      ]
     },
     "execution_count": 6,
     "metadata": {},
     "output_type": "execute_result"
    }
   ],
   "source": [
    "# https://www.travelandleisure.com/airlines-airports/number-of-planes-in-air\n",
    "#     \"...in 2017, FlightAware determined there to be an average of 9,728 commercial airplanes in the sky at any given time.\"\n",
    "# Assuming no change to this average since.\n",
    "AVG_N_AIRLINERS_IN_FLIGHT = 9728\n",
    "\n",
    "eq_fraction_of_airliners_in_flight = eq_airliners_per_super_heavy / AVG_N_AIRLINERS_IN_FLIGHT\n",
    "eq_fraction_of_airliners_in_flight"
   ]
  },
  {
   "cell_type": "code",
   "execution_count": 7,
   "metadata": {},
   "outputs": [
    {
     "data": {
      "text/plain": [
       "2027.5753477745952"
      ]
     },
     "execution_count": 7,
     "metadata": {},
     "output_type": "execute_result"
    }
   ],
   "source": [
    "super_heavy_t_CO2 = super_heavy_t_CO2_per_s * SUPER_HEAVY_BURN_TIME_S\n",
    "super_heavy_t_CO2"
   ]
  },
  {
   "cell_type": "code",
   "execution_count": 8,
   "metadata": {},
   "outputs": [
    {
     "data": {
      "text/plain": [
       "3003793243.1590104"
      ]
     },
     "execution_count": 8,
     "metadata": {},
     "output_type": "execute_result"
    }
   ],
   "source": [
    "# https://www.space.com/34234-spacex-mars-colony-plan-by-the-numbers.html\n",
    "#     \"1,000: The minimum number of ships SpaceX aims to send to Mars at every opportunity, once the ITS is fully up and running.\"\n",
    "\n",
    "# https://www.energy-cg.com/NorthAmericanNatGasSupplyDemandFund/NaturalGasDemand_MethaneFuelMuskStarship.html\n",
    "#     'According to Darrell Etherington of TechCrunch, Elon Musk, in response to questions during a Twitter interview, indicated \"that the spacecraft is being designed with the plan of flying it for an average of three flights per day, each carrying over 100 tons of payload per flight, for a total of more than 1,000 flights per year, per vehicle.\"'\n",
    "\n",
    "starship_t_CO2 = starship_t_CH4 / CH4_MOLAR_MASS_G_PER_MOL * C_ATOMS_PER_CH4 / C_ATOMS_PER_CO2 * CO2_MOLAR_MASS_G_PER_MOL\n",
    "\n",
    "# (_6 kg CO2 / launch) * (3 launches/day/rocket) * (365 days/year) * (1000 rockets) = ~3,000,000,000,000 kg CO2 = 3,000,000,000 t/year CO2\n",
    "starship_fleet_annual_t_CO2 = starship_t_CO2 * 3 * 365 * 1000\n",
    "starship_fleet_annual_t_CO2"
   ]
  },
  {
   "cell_type": "code",
   "execution_count": 10,
   "metadata": {},
   "outputs": [
    {
     "data": {
      "text/plain": [
       "0.05889790672860805"
      ]
     },
     "execution_count": 10,
     "metadata": {},
     "output_type": "execute_result"
    }
   ],
   "source": [
    "starship_fleet_annual_t_CO2 / 51e9"
   ]
  }
 ],
 "metadata": {
  "kernelspec": {
   "display_name": "electric_airline",
   "language": "python",
   "name": "python3"
  },
  "language_info": {
   "codemirror_mode": {
    "name": "ipython",
    "version": 3
   },
   "file_extension": ".py",
   "mimetype": "text/x-python",
   "name": "python",
   "nbconvert_exporter": "python",
   "pygments_lexer": "ipython3",
   "version": "3.11.4"
  }
 },
 "nbformat": 4,
 "nbformat_minor": 2
}
