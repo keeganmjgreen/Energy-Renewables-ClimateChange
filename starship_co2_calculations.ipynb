{
 "cells": [
  {
   "cell_type": "code",
   "execution_count": 44,
   "metadata": {},
   "outputs": [
    {
     "data": {
      "text/plain": [
       "989.0109890109891"
      ]
     },
     "execution_count": 44,
     "metadata": {},
     "output_type": "execute_result"
    }
   ],
   "source": [
    "# https://en.wikipedia.org/wiki/SpaceX_Starship\n",
    "\n",
    "# Starship burns methane (CH4)\n",
    "\n",
    "# \"StarShip uses 1,200 tonnes of propellant.\"\n",
    "# \"SuperHeavy uses about 3,300 tonnes.\"\n",
    "# \"3.55 tonnes of liquid oxygen (LOX) to every 1 tonne of liquid methane (LCH4)\"\n",
    "# -> \"989 tonnes of LCH4\"\n",
    "# ^ From Steve Baker on `https://www.quora.com/How-much-fuel-does-SpaceXs-Starship-and-Super-Heavy-vehicles-carry-How-much-total-fuel-is-available-for-launch-burn-duration`\n",
    "# \"Starship launch (booster and Starship) will use about a 1000 tonnes of methane\"\n",
    "# ^ From `https://www.energy-cg.com/NorthAmericanNatGasSupplyDemandFund/NaturalGasDemand_MethaneFuelMuskStarship.html`\n",
    "# https://www.google.com/search?hl=en&q=spacex%20starship%20fuel%20burn%20rate\n",
    "\n",
    "SUPER_HEAVY_PROPELLANT_T = 3300\n",
    "SECOND_STAGE_PROPELLANT_T = 1200\n",
    "T_O2_PER_T_CH4 = 3.55\n",
    "starship_t_CH4 = (SUPER_HEAVY_PROPELLANT_T  + SECOND_STAGE_PROPELLANT_T) / (1 + T_O2_PER_T_CH4)\n",
    "super_heavy_t_CH4 = SUPER_HEAVY_PROPELLANT_T / (1 + T_O2_PER_T_CH4)\n",
    "starship_t_CH4"
   ]
  },
  {
   "cell_type": "code",
   "execution_count": 45,
   "metadata": {},
   "outputs": [
    {
     "data": {
      "text/plain": [
       "4.532967032967033"
      ]
     },
     "execution_count": 45,
     "metadata": {},
     "output_type": "execute_result"
    }
   ],
   "source": [
    "# \"At approximately 159 seconds after launch...Super Heavy cuts off all but three of its centre gimbaling rocket engines.\"\n",
    "# ^ From `https://en.wikipedia.org/wiki/SpaceX_Starship`\n",
    "# Super Heavy burns fuel at a reduced rate ~160 s after launch.\n",
    "\n",
    "SUPER_HEAVY_BURN_TIME_S = 160\n",
    "\n",
    "super_heavy_t_CH4_per_s = super_heavy_t_CH4 / SUPER_HEAVY_BURN_TIME_S\n",
    "super_heavy_t_CH4_per_s"
   ]
  },
  {
   "cell_type": "code",
   "execution_count": 59,
   "metadata": {},
   "outputs": [
    {
     "data": {
      "text/plain": [
       "12.434790634784402"
      ]
     },
     "execution_count": 59,
     "metadata": {},
     "output_type": "execute_result"
    }
   ],
   "source": [
    "CH4_MOLAR_MASS_G_PER_MOL = 16.043\n",
    "CO2_MOLAR_MASS_G_PER_MOL = 44.009\n",
    "C_ATOMS_PER_CH4 = 1\n",
    "C_ATOMS_PER_CO2 = 1\n",
    "super_heavy_t_CO2_per_s = super_heavy_t_CH4_per_s / CH4_MOLAR_MASS_G_PER_MOL * C_ATOMS_PER_CH4 / C_ATOMS_PER_CO2 * CO2_MOLAR_MASS_G_PER_MOL\n",
    "super_heavy_t_CO2_per_s"
   ]
  },
  {
   "cell_type": "code",
   "execution_count": 60,
   "metadata": {},
   "outputs": [
    {
     "data": {
      "text/plain": [
       "5829.719003649508"
      ]
     },
     "execution_count": 60,
     "metadata": {},
     "output_type": "execute_result"
    }
   ],
   "source": [
    "KG_PER_T = G_PER_KG = 1000\n",
    "S_PER_H = 3600\n",
    "\n",
    "# \"1 kilogram of jet fuel consumed = 3.16 kilograms of carbon dioxide emissions\"\n",
    "# ^ From `https://theicct.org/sites/default/files/publications/CO2-commercial-aviation-oct2020.pdf`\n",
    "AIRLINER_KG_CO2_PER_KG_FUEL = 3.16\n",
    "\n",
    "A320_AIRLINER_KG_FUEL_PER_H = 2430\n",
    "\n",
    "eq_airliners_per_super_heavy = super_heavy_t_CO2_per_s * KG_PER_T / AIRLINER_KG_CO2_PER_KG_FUEL / (A320_AIRLINER_KG_FUEL_PER_H / S_PER_H)\n",
    "eq_airliners_per_super_heavy"
   ]
  },
  {
   "cell_type": "code",
   "execution_count": 61,
   "metadata": {},
   "outputs": [
    {
     "data": {
      "text/plain": [
       "3001778.354901971"
      ]
     },
     "execution_count": 61,
     "metadata": {},
     "output_type": "execute_result"
    }
   ],
   "source": [
    "# \"The average passenger vehicle emits about 400 grams of CO2 per mile.\"\n",
    "# ^ From `https://www.epa.gov/greenvehicles/greenhouse-gas-emissions-typical-passenger-vehicle`\n",
    "CAR_G_CO2_PER_MILE = 400\n",
    "\n",
    "KM_PER_MILE = 1.609344\n",
    "\n",
    "# Assuming average passenger vehicle traveling at 60 km/h:\n",
    "ASSUMED_SPEED_KMPH = 60\n",
    "\n",
    "eq_cars_per_super_heavy = super_heavy_t_CO2_per_s * KG_PER_T / (CAR_G_CO2_PER_MILE / KM_PER_MILE / G_PER_KG * ASSUMED_SPEED_KMPH / S_PER_H)\n",
    "eq_cars_per_super_heavy"
   ]
  },
  {
   "cell_type": "code",
   "execution_count": 62,
   "metadata": {},
   "outputs": [
    {
     "data": {
      "text/plain": [
       "0.5992721015264708"
      ]
     },
     "execution_count": 62,
     "metadata": {},
     "output_type": "execute_result"
    }
   ],
   "source": [
    "# \"...in 2017, FlightAware determined there to be an average of 9,728 commercial airplanes in the sky at any given time.\"\n",
    "# ^ From `https://www.travelandleisure.com/airlines-airports/number-of-planes-in-air`\n",
    "# Assuming no change to this average since.\n",
    "AVG_N_AIRLINERS_IN_FLIGHT = 9728\n",
    "\n",
    "eq_fraction_of_airliners_in_flight = eq_airliners_per_super_heavy / AVG_N_AIRLINERS_IN_FLIGHT\n",
    "eq_fraction_of_airliners_in_flight"
   ]
  },
  {
   "cell_type": "code",
   "execution_count": 54,
   "metadata": {},
   "outputs": [
    {
     "data": {
      "text/plain": [
       "1989.5665015655045"
      ]
     },
     "execution_count": 54,
     "metadata": {},
     "output_type": "execute_result"
    }
   ],
   "source": [
    "super_heavy_t_CO2 = super_heavy_t_CO2_per_s * SUPER_HEAVY_BURN_TIME_S\n",
    "super_heavy_t_CO2"
   ]
  },
  {
   "cell_type": "code",
   "execution_count": 65,
   "metadata": {},
   "outputs": [
    {
     "data": {
      "text/plain": [
       "2970784526.201219"
      ]
     },
     "execution_count": 65,
     "metadata": {},
     "output_type": "execute_result"
    }
   ],
   "source": [
    "# \"1,000: The minimum number of ships SpaceX aims to send to Mars at every opportunity, once the ITS is fully up and running.\"\n",
    "# ^ From `https://www.space.com/34234-spacex-mars-colony-plan-by-the-numbers.html`\n",
    "\n",
    "# 'According to Darrell Etherington of TechCrunch, Elon Musk, in response to questions during a Twitter interview, indicated \"that the spacecraft is being designed with the plan of flying it for an average of three flights per day, each carrying over 100 tons of payload per flight, for a total of more than 1,000 flights per year, per vehicle.\"'\n",
    "# ^ From `https://www.energy-cg.com/NorthAmericanNatGasSupplyDemandFund/NaturalGasDemand_MethaneFuelMuskStarship.html`\n",
    "\n",
    "starship_t_CO2 = starship_t_CH4 / CH4_MOLAR_MASS_G_PER_MOL * C_ATOMS_PER_CH4 / C_ATOMS_PER_CO2 * CO2_MOLAR_MASS_G_PER_MOL\n",
    "\n",
    "# (_6 kg CO2 / launch) * (3 launches/day/rocket) * (365 days/year) * (1000 rockets) = ~3,000,000,000,000 kg CO2 = 3,000,000,000 t/year CO2\n",
    "starship_fleet_annual_t_CO2 = starship_t_CO2 * 3 * 365 * 1000\n",
    "starship_fleet_annual_t_CO2"
   ]
  },
  {
   "cell_type": "code",
   "execution_count": 66,
   "metadata": {},
   "outputs": [
    {
     "data": {
      "text/plain": [
       "0.05941569052402438"
      ]
     },
     "execution_count": 66,
     "metadata": {},
     "output_type": "execute_result"
    }
   ],
   "source": [
    "starship_fleet_annual_t_CO2 / 50e9"
   ]
  }
 ],
 "metadata": {
  "kernelspec": {
   "display_name": "electric_airline",
   "language": "python",
   "name": "python3"
  },
  "language_info": {
   "codemirror_mode": {
    "name": "ipython",
    "version": 3
   },
   "file_extension": ".py",
   "mimetype": "text/x-python",
   "name": "python",
   "nbconvert_exporter": "python",
   "pygments_lexer": "ipython3",
   "version": "3.11.4"
  }
 },
 "nbformat": 4,
 "nbformat_minor": 2
}
